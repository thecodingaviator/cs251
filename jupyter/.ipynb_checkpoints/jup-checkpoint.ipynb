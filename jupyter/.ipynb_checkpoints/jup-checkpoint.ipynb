{
 "cells": [
  {
   "cell_type": "code",
   "execution_count": 5,
   "metadata": {},
   "outputs": [
    {
     "name": "stdout",
     "output_type": "stream",
     "text": [
      "4\n"
     ]
    }
   ],
   "source": [
    "# Execute lines of python code in cells with Shift+Enter\n",
    "# The output (of the last line executed) shows up below the cell\n",
    "# e.g. arthimetic\n",
    "print(2+2)"
   ]
  },
  {
   "cell_type": "code",
   "execution_count": 6,
   "metadata": {},
   "outputs": [],
   "source": [
    "# Variables assigned in a cell are in scope throughout the notebook\n",
    "x = 4"
   ]
  },
  {
   "cell_type": "code",
   "execution_count": 4,
   "metadata": {},
   "outputs": [
    {
     "name": "stdout",
     "output_type": "stream",
     "text": [
      "4\n"
     ]
    }
   ],
   "source": [
    "# printing works as you would expect\n",
    "#(even if you evaluate something afterwards in the same cell)\n",
    "print(x)"
   ]
  },
  {
   "cell_type": "code",
   "execution_count": 8,
   "metadata": {},
   "outputs": [],
   "source": [
    "# You can import modules (e.g. time)\n",
    "import time"
   ]
  },
  {
   "cell_type": "code",
   "execution_count": 9,
   "metadata": {},
   "outputs": [
    {
     "name": "stdout",
     "output_type": "stream",
     "text": [
      "HERE!  4\n"
     ]
    }
   ],
   "source": [
    "# Modules and variables remain in scope throughout notebook\n",
    "print(\"HERE! \", x)"
   ]
  },
  {
   "cell_type": "code",
   "execution_count": null,
   "metadata": {},
   "outputs": [],
   "source": [
    "'''Jupyter notebooks have 2 modes: Select and command\n",
    "We currently are in command mode (we are entering commands)\n",
    "Hit Esc to enter Select mode. To stay in Select mode, you have to\n",
    "use the keyboard (e.g. up and down arrows to move to other cells).\n",
    "If you click a cell, you enter Command mode again.\n",
    "\n",
    "Things you can do in Select mode:\n",
    "- Select multiple cells (Shift+arrow up/down)\n",
    "- Copy cells c (no modifier key)\n",
    "- Cut cells x (no modifier key)\n",
    "- Delete one or more selected cells d d (press d twice)\n",
    "- Paste cells v (no modifier key). Pasted cells appear below current one.\n",
    "- Convert cell from code to Markdown. We will use this to display text/\n",
    "project instructions in notebooks. Do this by pressing m then Enter.\n",
    "'''"
   ]
  },
  {
   "cell_type": "markdown",
   "metadata": {},
   "source": [
    "Type Markdown in a Markdown cell and Shift+Enter for it to show up as text (not executed as code)"
   ]
  },
  {
   "cell_type": "markdown",
   "metadata": {},
   "source": [
    "Markdown cells support useful formatting: headers, bold/italics, order/unordered lists, inline code.\n",
    "\n",
    "# Headers\n",
    "## Headers\n",
    "### Headers\n",
    "\n",
    "**Bold text**\n",
    "*Italics*\n",
    "\n",
    "- Unordered\n",
    "- lists\n",
    "\n",
    "\n",
    "1. Numbered\n",
    "2. Lists\n",
    "\n",
    "Inline code: `print(a+b)`\n",
    "\n",
    "```js\n",
    "let x = 15;\n",
    "console.log(\"Hello\");\n",
    "```\n",
    "\n",
    "Full list of supported Markdown commands are here:https://help.github.com/en/articles/basic-writing-and-formatting-syntax"
   ]
  },
  {
   "cell_type": "markdown",
   "metadata": {},
   "source": [
    "Some other ways to create new cells using keyboard shortcuts:\n",
    "\n",
    "- Esc + a to create cell Above current one\n",
    "- Esc + b to create cell Below current one\n",
    "- Option + Enter to execute current cell and create a new one below"
   ]
  },
  {
   "cell_type": "markdown",
   "metadata": {},
   "source": [
    "You will want to obsessively save Jupyter notebooks (Cmd+S)\n",
    "\n",
    "Notebooks are \"Trusted\" autosave every so often. You can tell if the notebook is trusted on top right. If it is not trusted, it should say \"Not Trusted\". To fix this (and enable autosave), click the button and confirm that you want to trust the current notebook. **I still recommend manually saving very often!**\n",
    "\n",
    "The Terminal process that is running the Jupyter notebook should tell you when it saves (manually or automatically)."
   ]
  },
  {
   "cell_type": "markdown",
   "metadata": {},
   "source": [
    "Jupyter notebooks execute Python code in a system process called a **kernel**. The kernel is a proxy that tells Python to execute batchs of commands.\n",
    "\n",
    "- If your code is hanging (you think its not working properly or might having issues), you can try **interrupting** the kernel (in top Kernel menu). \n",
    "- If you are having serious issues and the Python code you are executing is hanging and won't interrupt, you can kill the kernel have restart it. **Restarting the kernel will remove Python modules/variables from memory** (Your notebook should safe if you are able to manually save it).\n",
    "- You can view all running kernels from the file browser in \"Running\" tab."
   ]
  }
 ],
 "metadata": {
  "kernelspec": {
   "display_name": "Python 3 (ipykernel)",
   "language": "python",
   "name": "python3"
  },
  "language_info": {
   "codemirror_mode": {
    "name": "ipython",
    "version": 3
   },
   "file_extension": ".py",
   "mimetype": "text/x-python",
   "name": "python",
   "nbconvert_exporter": "python",
   "pygments_lexer": "ipython3",
   "version": "3.8.10"
  }
 },
 "nbformat": 4,
 "nbformat_minor": 2
}
