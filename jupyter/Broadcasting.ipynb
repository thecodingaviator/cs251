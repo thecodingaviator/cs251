{
 "cells": [
  {
   "cell_type": "markdown",
   "metadata": {},
   "source": [
    "## Broadcasting\n",
    "\n",
    "NumPy has a powerful feature called **broadcasting** in which the smaller of two NumPy arrays is repeated to make it match a larger NumPy array, if possible. Here, I show examples of ndarrays that have the the same number of dimensions (i.e. they are both 2D) and examples in which one is 2D and the other is 1D. The distinction is important because there are slightly different rules."
   ]
  },
  {
   "cell_type": "code",
   "execution_count": 1,
   "metadata": {},
   "outputs": [],
   "source": [
    "import numpy as np"
   ]
  },
  {
   "cell_type": "markdown",
   "metadata": {},
   "source": [
    "### Example 1: Increasing dimensions on left\n",
    "\n",
    "When one array has fewer dimensions that the other, broadcasting works only when the smaller array can be repeated along a dimension *to the left*. This is best explained by example:\n",
    "\n",
    "A is a 2D array with shape (3,5)\n",
    "$$A = \\begin{pmatrix}\n",
    "1 & 2 & 3 & 4 & 5\\\\\n",
    "6 & 7 & 8 & 9 & 10\\\\\n",
    "11 & 12 & 13 & 14 & 15\\\\\n",
    "\\end{pmatrix}$$\n",
    "\n",
    "and b is a 1D array with shape (5,)\n",
    "\n",
    "$$b = \n",
    "\\begin{pmatrix} \n",
    "2 & 4 & 6 & 8 & 10\\\\\n",
    "\\end{pmatrix}$$\n",
    "\n",
    "`A+b` can be computed with broadcasting because NumPy can add an extra dimension to the left (i.e. it can make the shape (1,5)). It behaves as if b is repeated three times (i.e. its shape is (3,5) with the rows repeated).\n",
    "\n",
    "It effectively does this math\n",
    "\n",
    "$$\\begin{pmatrix}\n",
    "1 & 2 & 3 & 4 & 5\\\\\n",
    "6 & 7 & 8 & 9 & 10\\\\\n",
    "11 & 12 & 13 & 14 & 15\\\\\n",
    "\\end{pmatrix} + \n",
    "\\begin{pmatrix}\n",
    "2 & 4 & 6 & 8 & 10\\\\\n",
    "2 & 4 & 6 & 8 & 10\\\\\n",
    "2 & 4 & 6 & 8 & 10\\\\\n",
    "\\end{pmatrix}$$\n",
    "\n",
    "though it doesn't actually waste space like this"
   ]
  },
  {
   "cell_type": "code",
   "execution_count": 9,
   "metadata": {},
   "outputs": [
    {
     "name": "stdout",
     "output_type": "stream",
     "text": [
      "A\n",
      " [[ 1  2  3  4  5]\n",
      " [ 6  7  8  9 10]\n",
      " [11 12 13 14 15]]\n",
      "A has shape (3,5)\n",
      "b\n",
      " [ 2  4  6  8 10]\n",
      "b has shape (5,)\n"
     ]
    }
   ],
   "source": [
    "A = np.array( [[1,2,3,4,5],[6,7,8,9,10],[11,12,13,14,15]])\n",
    "b = np.array( [2,4,6,8,10])\n",
    "print(\"A\\n\",A)\n",
    "print(f'A has shape ({A.shape[0]},{A.shape[1]})')\n",
    "print(\"b\\n\",b)\n",
    "print(f'b has shape ({b.shape[0]},)')"
   ]
  },
  {
   "cell_type": "code",
   "execution_count": 10,
   "metadata": {
    "scrolled": true
   },
   "outputs": [
    {
     "name": "stdout",
     "output_type": "stream",
     "text": [
      "C\n",
      " [[ 3  6  9 12 15]\n",
      " [ 8 11 14 17 20]\n",
      " [13 16 19 22 25]]\n",
      "C has shape (3,5)\n"
     ]
    }
   ],
   "source": [
    "C = A + b\n",
    "print(\"C\\n\",C)\n",
    "print(f'C has shape ({C.shape[0]},{C.shape[1]})')"
   ]
  },
  {
   "cell_type": "markdown",
   "metadata": {},
   "source": [
    "### Example 2: repeating along dimension of size 1 (row)\n",
    "\n",
    "Broadcasting works with two arrays of the same dimensionality as long as the shapes line up. That means, for each axis, the number of elements along that axis are either the same for both arrays or one of the arrays has just 1 element along that axis. Again, examples make it clearer.\n",
    "\n",
    "A is a 2D array with shape (3,5)\n",
    "$$A = \\begin{pmatrix}\n",
    "1 & 2 & 3 & 4 & 5\\\\\n",
    "6 & 7 & 8 & 9 & 10\\\\\n",
    "11 & 12 & 13 & 14 & 15\\\\\n",
    "\\end{pmatrix}$$\n",
    "\n",
    "b is a 2D array with shape (1,5)\n",
    "\n",
    "$$b = \n",
    "\\begin{pmatrix} \n",
    "2 & 4 & 6 & 8 & 10\\\\\n",
    "\\end{pmatrix}$$\n",
    "\n",
    "`A+b` can be computed with broadcasting because NumPy sees that number of elements along axis 1 is identical for `A` and `b` and that `b` has just 1 element along axis 0. It behaves as if b is repeated three times (three rows). (i.e. This example works out just like the previous example.)\n",
    "\n",
    "It effectively does this math\n",
    "\n",
    "$$\\begin{pmatrix}\n",
    "1 & 2 & 3 & 4 & 5\\\\\n",
    "6 & 7 & 8 & 9 & 10\\\\\n",
    "11 & 12 & 13 & 14 & 15\\\\\n",
    "\\end{pmatrix} + \n",
    "\\begin{pmatrix}\n",
    "2 & 4 & 6 & 8 & 10\\\\\n",
    "2 & 4 & 6 & 8 & 10\\\\\n",
    "2 & 4 & 6 & 8 & 10\\\\\n",
    "\\end{pmatrix}$$\n",
    "\n",
    "though it doesn't actually waste space like this"
   ]
  },
  {
   "cell_type": "code",
   "execution_count": 26,
   "metadata": {},
   "outputs": [
    {
     "name": "stdout",
     "output_type": "stream",
     "text": [
      "A\n",
      " [[ 1  2  3  4  5]\n",
      " [ 6  7  8  9 10]\n",
      " [11 12 13 14 15]]\n",
      "A has shape (3,5)\n",
      "b\n",
      " [[ 2  4  6  8 10]]\n",
      "b has shape (1,5)\n"
     ]
    }
   ],
   "source": [
    "A = np.array( [[1,2,3,4,5],[6,7,8,9,10],[11,12,13,14,15]])\n",
    "b = np.array( [[2,4,6,8,10]])\n",
    "print(\"A\\n\",A)\n",
    "print(f'A has shape ({A.shape[0]},{A.shape[1]})')\n",
    "print(\"b\\n\",b)\n",
    "print(f'b has shape ({b.shape[0]},{b.shape[1]})')"
   ]
  },
  {
   "cell_type": "code",
   "execution_count": 27,
   "metadata": {},
   "outputs": [
    {
     "name": "stdout",
     "output_type": "stream",
     "text": [
      "C\n",
      " [[ 3  6  9 12 15]\n",
      " [ 8 11 14 17 20]\n",
      " [13 16 19 22 25]]\n",
      "C has shape (3,5)\n"
     ]
    }
   ],
   "source": [
    "C = A + b\n",
    "print(\"C\\n\",C)\n",
    "print(f'C has shape ({C.shape[0]},{C.shape[1]})')"
   ]
  },
  {
   "cell_type": "markdown",
   "metadata": {},
   "source": [
    "### Example 3: repeating along dimension of size 1 \n",
    "\n",
    "Here is another example with two 2D arrays. This time, both have 3 elements along axis 0 and one has only one element along axis 1.\n",
    "\n",
    "A is a 2D array with shape (3,5)\n",
    "$$A = \\begin{pmatrix}\n",
    "1 & 2 & 3 & 4 & 5\\\\\n",
    "6 & 7 & 8 & 9 & 10\\\\\n",
    "11 & 12 & 13 & 14 & 15\\\\\n",
    "\\end{pmatrix}$$\n",
    "\n",
    "b is a 2D array with shape (3,1)\n",
    "\n",
    "$$b = \n",
    "\\begin{pmatrix} \n",
    "3\\\\\n",
    "5\\\\\n",
    "7\\\\\n",
    "\\end{pmatrix}$$\n",
    "\n",
    "`A+b` can be computed with broadcasting because NumPy sees that number of elements along axis 0 is identical for `A` and `b` and that `b` has just 1 element along axis 1. It behaves as if b is repeated five times (five columns).\n",
    "\n",
    "\n",
    "It effectively does this math\n",
    "\n",
    "$$\\begin{pmatrix}\n",
    "1 & 2 & 3 & 4 & 5\\\\\n",
    "6 & 7 & 8 & 9 & 10\\\\\n",
    "11 & 12 & 13 & 14 & 15\\\\\n",
    "\\end{pmatrix} + \n",
    "\\begin{pmatrix}\n",
    "3 & 3 & 3 & 3 & 3\\\\\n",
    "5 & 5 & 5 & 5 & 5\\\\\n",
    "7 & 7 & 7 & 7 & 7\\\\\n",
    "\\end{pmatrix}$$\n",
    "\n",
    "though it doesn't actually waste space like this"
   ]
  },
  {
   "cell_type": "code",
   "execution_count": 28,
   "metadata": {},
   "outputs": [
    {
     "name": "stdout",
     "output_type": "stream",
     "text": [
      "A\n",
      " [[ 1  2  3  4  5]\n",
      " [ 6  7  8  9 10]\n",
      " [11 12 13 14 15]]\n",
      "A has shape (3,5)\n",
      "b\n",
      " [[3]\n",
      " [5]\n",
      " [7]]\n",
      "b has shape (3,1)\n"
     ]
    }
   ],
   "source": [
    "A = np.array( [[1,2,3,4,5],[6,7,8,9,10],[11,12,13,14,15]])\n",
    "b = np.array( [[3],[5],[7]])\n",
    "print(\"A\\n\",A)\n",
    "print(f'A has shape ({A.shape[0]},{A.shape[1]})')\n",
    "print(\"b\\n\",b)\n",
    "print(f'b has shape ({b.shape[0]},{b.shape[1]})')"
   ]
  },
  {
   "cell_type": "code",
   "execution_count": 29,
   "metadata": {},
   "outputs": [
    {
     "name": "stdout",
     "output_type": "stream",
     "text": [
      "C\n",
      " [[ 4  5  6  7  8]\n",
      " [11 12 13 14 15]\n",
      " [18 19 20 21 22]]\n",
      "C has shape (3,5)\n"
     ]
    }
   ],
   "source": [
    "C = A + b\n",
    "print(\"C\\n\",C)\n",
    "print(f'C has shape ({C.shape[0]},{C.shape[1]})')"
   ]
  },
  {
   "cell_type": "markdown",
   "metadata": {},
   "source": [
    "### Example 4: doesn't work because we can't expand on left\n",
    "\n",
    "This is an example that seems like it should work, but it doesn't beacuse it breaks the rule that the array with fewer dimensions needs to have an axis added to the left.\n",
    "\n",
    "A is a 2D array with shape (3,5)\n",
    "$$A = \\begin{pmatrix}\n",
    "1 & 2 & 3 & 4 & 5\\\\\n",
    "6 & 7 & 8 & 9 & 10\\\\\n",
    "11 & 12 & 13 & 14 & 15\\\\\n",
    "\\end{pmatrix}$$\n",
    "\n",
    "and b is a 1D array with shape (3,)\n",
    "\n",
    "$$b = \n",
    "\\begin{pmatrix} \n",
    "3 & 5 & 7\\\\\n",
    "\\end{pmatrix}$$\n",
    "\n",
    "`A+b` **cannot** be computed with broadcasting because NumPy cannot add an extra dimension to the left (i.e. (1,3) wouldn't line up with (3,5)).\n",
    "\n",
    "\n",
    "It effectively does this math\n",
    "\n",
    "$$\\begin{pmatrix}\n",
    "1 & 2 & 3 & 4 & 5\\\\\n",
    "6 & 7 & 8 & 9 & 10\\\\\n",
    "11 & 12 & 13 & 14 & 15\\\\\n",
    "\\end{pmatrix} + \n",
    "\\begin{pmatrix}\n",
    "2 & 4 & 6 & 8 & 10\\\\\n",
    "2 & 4 & 6 & 8 & 10\\\\\n",
    "2 & 4 & 6 & 8 & 10\\\\\n",
    "\\end{pmatrix}$$\n",
    "\n",
    "though it doesn't actually waste space like this"
   ]
  },
  {
   "cell_type": "code",
   "execution_count": 30,
   "metadata": {},
   "outputs": [
    {
     "name": "stdout",
     "output_type": "stream",
     "text": [
      "A\n",
      " [[ 1  2  3  4  5]\n",
      " [ 6  7  8  9 10]\n",
      " [11 12 13 14 15]]\n",
      "A has shape (3,5)\n",
      "b\n",
      " [3 5 7]\n",
      "b has shape (3,)\n"
     ]
    }
   ],
   "source": [
    "A = np.array( [[1,2,3,4,5],[6,7,8,9,10],[11,12,13,14,15]])\n",
    "b = np.array( [3,5,7])\n",
    "print(\"A\\n\",A)\n",
    "print(f'A has shape ({A.shape[0]},{A.shape[1]})')\n",
    "print(\"b\\n\",b)\n",
    "print(f'b has shape ({b.shape[0]},)')"
   ]
  },
  {
   "cell_type": "code",
   "execution_count": 25,
   "metadata": {},
   "outputs": [
    {
     "ename": "ValueError",
     "evalue": "operands could not be broadcast together with shapes (3,5) (3,) ",
     "output_type": "error",
     "traceback": [
      "\u001b[0;31m---------------------------------------------------------------------------\u001b[0m",
      "\u001b[0;31mValueError\u001b[0m                                Traceback (most recent call last)",
      "\u001b[0;32m<ipython-input-25-095ba78157a3>\u001b[0m in \u001b[0;36m<module>\u001b[0;34m\u001b[0m\n\u001b[0;32m----> 1\u001b[0;31m \u001b[0mC\u001b[0m \u001b[0;34m=\u001b[0m \u001b[0mA\u001b[0m \u001b[0;34m+\u001b[0m \u001b[0mb\u001b[0m\u001b[0;34m\u001b[0m\u001b[0;34m\u001b[0m\u001b[0m\n\u001b[0m",
      "\u001b[0;31mValueError\u001b[0m: operands could not be broadcast together with shapes (3,5) (3,) "
     ]
    }
   ],
   "source": [
    "C = A + b"
   ]
  },
  {
   "cell_type": "markdown",
   "metadata": {},
   "source": [
    "How do we fix it? \n",
    "\n",
    "We explicitly add the dimension to the right, so that A still has shape (3,5) but now b has shape (3,1). This then becomes identical to Example 3."
   ]
  },
  {
   "cell_type": "code",
   "execution_count": 31,
   "metadata": {},
   "outputs": [
    {
     "name": "stdout",
     "output_type": "stream",
     "text": [
      "A\n",
      " [[ 1  2  3  4  5]\n",
      " [ 6  7  8  9 10]\n",
      " [11 12 13 14 15]]\n",
      "A has shape (3,5)\n",
      "b\n",
      " [[3]\n",
      " [5]\n",
      " [7]]\n",
      "b has shape (3,1)\n",
      "C\n",
      " [[ 4  5  6  7  8]\n",
      " [11 12 13 14 15]\n",
      " [18 19 20 21 22]]\n",
      "C has shape (3,5)\n"
     ]
    }
   ],
   "source": [
    "A = np.array( [[1,2,3,4,5],[6,7,8,9,10],[11,12,13,14,15]])\n",
    "## Make b a 2D array instead of a 1D array\n",
    "b = np.array( [3,5,7]).reshape( (3,1)) # Fix with the reshape!!\n",
    "print(\"A\\n\",A)\n",
    "print(f'A has shape ({A.shape[0]},{A.shape[1]})')\n",
    "print(\"b\\n\",b)\n",
    "print(f'b has shape ({b.shape[0]},{b.shape[1]})')\n",
    "C = A + b\n",
    "print(\"C\\n\",C)\n",
    "print(f'C has shape ({C.shape[0]},{C.shape[1]})')"
   ]
  }
 ],
 "metadata": {
  "kernelspec": {
   "display_name": "Python 3",
   "language": "python",
   "name": "python3"
  },
  "language_info": {
   "codemirror_mode": {
    "name": "ipython",
    "version": 3
   },
   "file_extension": ".py",
   "mimetype": "text/x-python",
   "name": "python",
   "nbconvert_exporter": "python",
   "pygments_lexer": "ipython3",
   "version": "3.8.10"
  },
  "vscode": {
   "interpreter": {
    "hash": "916dbcbb3f70747c44a77c7bcd40155683ae19c65e1c03b4aa3499c5328201f1"
   }
  }
 },
 "nbformat": 4,
 "nbformat_minor": 4
}
