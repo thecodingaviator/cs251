{
 "cells": [
  {
   "cell_type": "markdown",
   "metadata": {},
   "source": [
    "# Numpy Tutorial\n",
    "\n",
    "Oliver W. Layton and Stephanie R Taylor\n",
    "\n",
    "CS251: Data Analysis and Visualization\n",
    "\n",
    "Spring 2021"
   ]
  },
  {
   "cell_type": "code",
   "execution_count": 12,
   "metadata": {},
   "outputs": [],
   "source": [
    "import numpy as np"
   ]
  },
  {
   "cell_type": "markdown",
   "metadata": {},
   "source": [
    "## Numpy ndarray basics"
   ]
  },
  {
   "cell_type": "markdown",
   "metadata": {},
   "source": [
    "### Creation from Python lists"
   ]
  },
  {
   "cell_type": "code",
   "execution_count": 13,
   "metadata": {},
   "outputs": [],
   "source": [
    "# Make a numpy array from a 2D python list\n",
    "arr = np.array([[1.0, 2.0, 3.0], [4.0, 5.0, 6.0]])"
   ]
  },
  {
   "cell_type": "code",
   "execution_count": 14,
   "metadata": {},
   "outputs": [
    {
     "name": "stdout",
     "output_type": "stream",
     "text": [
      "[[1. 2. 3.]\n",
      " [4. 5. 6.]]\n",
      "1.0\n"
     ]
    }
   ],
   "source": [
    "# print it\n",
    "print(arr)\n",
    "print(arr[0, 0]) #compared to arr[0][0]"
   ]
  },
  {
   "cell_type": "markdown",
   "metadata": {},
   "source": [
    "### Data type of ndarray"
   ]
  },
  {
   "cell_type": "code",
   "execution_count": 15,
   "metadata": {},
   "outputs": [
    {
     "name": "stdout",
     "output_type": "stream",
     "text": [
      "Type of array is\n",
      " float64\n"
     ]
    }
   ],
   "source": [
    "# determine data type\n",
    "print('Type of array is\\n', arr.dtype)"
   ]
  },
  {
   "cell_type": "markdown",
   "metadata": {},
   "source": [
    "Type can be set or changed in a few ways. \n",
    "\n",
    "1. when creating array â€” (a) implicitly or (b) explicitly\n",
    "2. by casting types."
   ]
  },
  {
   "cell_type": "code",
   "execution_count": 16,
   "metadata": {},
   "outputs": [],
   "source": [
    "# 1b explicitly\n"
   ]
  },
  {
   "cell_type": "code",
   "execution_count": 17,
   "metadata": {},
   "outputs": [],
   "source": [
    "# 2. NOTE: Casting is a METHOD of the array, not a FUNCTION\n"
   ]
  },
  {
   "cell_type": "code",
   "execution_count": 18,
   "metadata": {},
   "outputs": [],
   "source": [
    "# Can also be string. be careful in your CSV parser that your \"numbers\"\n",
    "# aren't actually strings!\n"
   ]
  },
  {
   "cell_type": "markdown",
   "metadata": {},
   "source": [
    "### Convert back to Python list"
   ]
  },
  {
   "cell_type": "code",
   "execution_count": 19,
   "metadata": {},
   "outputs": [],
   "source": [
    "# Convert back from ndarray to Python list (2 methods)\n"
   ]
  },
  {
   "cell_type": "markdown",
   "metadata": {},
   "source": [
    "### Other ways to create ndarrays quickly"
   ]
  },
  {
   "cell_type": "markdown",
   "metadata": {},
   "source": [
    "#### 1. zeros"
   ]
  },
  {
   "cell_type": "code",
   "execution_count": null,
   "metadata": {},
   "outputs": [],
   "source": []
  },
  {
   "cell_type": "markdown",
   "metadata": {},
   "source": [
    "#### 2. ones"
   ]
  },
  {
   "cell_type": "code",
   "execution_count": null,
   "metadata": {},
   "outputs": [],
   "source": []
  },
  {
   "cell_type": "code",
   "execution_count": 20,
   "metadata": {},
   "outputs": [],
   "source": [
    "# can easily make any constant array\n"
   ]
  },
  {
   "cell_type": "markdown",
   "metadata": {},
   "source": [
    "#### 3. Random values"
   ]
  },
  {
   "cell_type": "code",
   "execution_count": 21,
   "metadata": {},
   "outputs": [],
   "source": [
    "# Uniform random values\n"
   ]
  },
  {
   "cell_type": "markdown",
   "metadata": {},
   "source": [
    "#### 4. Equally spaced floats in an interval"
   ]
  },
  {
   "cell_type": "code",
   "execution_count": null,
   "metadata": {},
   "outputs": [],
   "source": []
  },
  {
   "cell_type": "markdown",
   "metadata": {},
   "source": [
    "#### 5. Equally spaced ints in an interval"
   ]
  },
  {
   "cell_type": "code",
   "execution_count": null,
   "metadata": {},
   "outputs": [],
   "source": []
  },
  {
   "attachments": {},
   "cell_type": "markdown",
   "metadata": {},
   "source": [
    "### Check dimensions - `shape`"
   ]
  },
  {
   "cell_type": "code",
   "execution_count": 22,
   "metadata": {},
   "outputs": [
    {
     "name": "stdout",
     "output_type": "stream",
     "text": [
      "(20,)\n"
     ]
    }
   ],
   "source": [
    "# check shape of 3D array\n",
    "arr = np.arange(stop=5.0, step=0.25, start = 0)\n",
    "print(arr.shape)"
   ]
  },
  {
   "cell_type": "code",
   "execution_count": 23,
   "metadata": {},
   "outputs": [
    {
     "name": "stdout",
     "output_type": "stream",
     "text": [
      "1\n"
     ]
    }
   ],
   "source": [
    "# check number of dimensions (M)\n",
    "print(len(arr.shape))"
   ]
  },
  {
   "cell_type": "code",
   "execution_count": 24,
   "metadata": {},
   "outputs": [
    {
     "name": "stdout",
     "output_type": "stream",
     "text": [
      "[[0.11111111 0.22222222 0.33333333]\n",
      " [0.44444444 0.55555556 0.66666667]]\n",
      "Value at row 1 and column 2 is 0.6666666666666666\n"
     ]
    }
   ],
   "source": [
    "# Access 1st dim (#rows), 2nd dim (#cols) (Use f-string)\n",
    "arr = np.array([[1.0, 2.0, 3.0], [4.0, 5.0, 6.0]]) / 9\n",
    "print(arr)\n",
    "row_idx = 1\n",
    "col_idx = 2\n",
    "print(f'Value at row {row_idx} and column {col_idx} is {arr[row_idx, col_idx]}')"
   ]
  },
  {
   "cell_type": "code",
   "execution_count": 25,
   "metadata": {},
   "outputs": [
    {
     "name": "stdout",
     "output_type": "stream",
     "text": [
      "6\n"
     ]
    }
   ],
   "source": [
    "# Check number of elements total\n",
    "print(arr.size)"
   ]
  },
  {
   "cell_type": "markdown",
   "metadata": {},
   "source": [
    "## Brief detour: Rapidly build python lists (list comprehension)"
   ]
  },
  {
   "cell_type": "code",
   "execution_count": 26,
   "metadata": {},
   "outputs": [],
   "source": [
    "# Brief detour: In python you can replace the workflow of \n",
    "# list-building by creating an empty list and looping to append...\n"
   ]
  },
  {
   "cell_type": "code",
   "execution_count": 27,
   "metadata": {},
   "outputs": [],
   "source": [
    "# ...with Python list comprehensions\n"
   ]
  },
  {
   "cell_type": "code",
   "execution_count": 28,
   "metadata": {},
   "outputs": [],
   "source": [
    "# you can build lists using any function of i. How about i^2?\n"
   ]
  },
  {
   "cell_type": "markdown",
   "metadata": {},
   "source": [
    "## ndarray indexing\n",
    "\n",
    "Basic Accessing and modifying of ndarrays."
   ]
  },
  {
   "cell_type": "markdown",
   "metadata": {},
   "source": [
    "### Access and modify single elements"
   ]
  },
  {
   "cell_type": "code",
   "execution_count": 29,
   "metadata": {},
   "outputs": [],
   "source": [
    "# To access elements in a multidimensional ndarray use ONE set of square brackets []\n",
    "# Make a new random array\n",
    "np.random.seed(0)  # ensures random numbers come up the same each time. Useful for debugging.\n",
    "arr = np.random.random([2 ,3])"
   ]
  },
  {
   "cell_type": "code",
   "execution_count": 30,
   "metadata": {},
   "outputs": [
    {
     "name": "stdout",
     "output_type": "stream",
     "text": [
      "[[0.5488135  0.71518937 0.60276338]\n",
      " [0.54488318 0.4236548  0.64589411]]\n",
      "0.5488135039273248\n",
      "[[5.         0.71518937 0.60276338]\n",
      " [0.54488318 0.4236548  0.64589411]]\n"
     ]
    }
   ],
   "source": [
    "# Get the 1st element\n",
    "print(arr)\n",
    "print(arr[0,0])\n",
    "arr[0,0] = 5\n",
    "print(arr)"
   ]
  },
  {
   "cell_type": "code",
   "execution_count": 31,
   "metadata": {},
   "outputs": [
    {
     "name": "stdout",
     "output_type": "stream",
     "text": [
      "arr is now:\n",
      " [[5.         0.71518937 0.60276338]\n",
      " [0.54488318 0.4236548  0.64589411]]\n"
     ]
    }
   ],
   "source": [
    "# Modifying single values is similar\n",
    "\n",
    "print('arr is now:\\n', arr)"
   ]
  },
  {
   "cell_type": "markdown",
   "metadata": {},
   "source": [
    "### Slicing: real power of numpy\n",
    "\n",
    "Use **colon** notation for all values in a dimension\n",
    "\n",
    "Access and modify different ranges of data along different dimensions "
   ]
  },
  {
   "cell_type": "markdown",
   "metadata": {},
   "source": [
    "Make a 3x5 random array. Access 2nd column"
   ]
  },
  {
   "cell_type": "code",
   "execution_count": 32,
   "metadata": {},
   "outputs": [
    {
     "name": "stdout",
     "output_type": "stream",
     "text": [
      "[[0.5488135  0.71518937 0.60276338]\n",
      " [0.54488318 0.4236548  0.64589411]]\n"
     ]
    }
   ],
   "source": [
    "np.random.seed(0)\n",
    "arr = np.random.random([2 ,3])\n",
    "print(arr)"
   ]
  },
  {
   "cell_type": "code",
   "execution_count": null,
   "metadata": {},
   "outputs": [],
   "source": []
  },
  {
   "cell_type": "markdown",
   "metadata": {},
   "source": [
    "Access 1st row"
   ]
  },
  {
   "cell_type": "code",
   "execution_count": 33,
   "metadata": {},
   "outputs": [
    {
     "name": "stdout",
     "output_type": "stream",
     "text": [
      "[0.5488135  0.71518937 0.60276338]\n"
     ]
    }
   ],
   "source": [
    "print(arr[0, :])"
   ]
  },
  {
   "cell_type": "markdown",
   "metadata": {},
   "source": [
    "Access last 2 columns"
   ]
  },
  {
   "cell_type": "code",
   "execution_count": 34,
   "metadata": {},
   "outputs": [
    {
     "name": "stdout",
     "output_type": "stream",
     "text": [
      "[[0.71518937 0.60276338]\n",
      " [0.4236548  0.64589411]]\n",
      "[[0.71518937 0.60276338]\n",
      " [0.4236548  0.64589411]]\n"
     ]
    }
   ],
   "source": [
    "print(arr[:,-2:])\n",
    "print(arr[:,1:])"
   ]
  },
  {
   "cell_type": "markdown",
   "metadata": {},
   "source": [
    "Access columns at indices 1-2 and in 1st row. Careful about off-by-one.\n",
    "\n",
    "- Low range (before :) CONTAINS that index\n",
    "- High range (after :) DOES NOT contain that index (i-1)"
   ]
  },
  {
   "cell_type": "code",
   "execution_count": null,
   "metadata": {},
   "outputs": [],
   "source": []
  },
  {
   "cell_type": "markdown",
   "metadata": {},
   "source": [
    "Use slicing to assign values efficiently in batch without loops"
   ]
  },
  {
   "cell_type": "code",
   "execution_count": 35,
   "metadata": {},
   "outputs": [],
   "source": [
    "# Assign 1st row to -1s\n"
   ]
  },
  {
   "cell_type": "code",
   "execution_count": 36,
   "metadata": {},
   "outputs": [],
   "source": [
    "# Assign 1st row to increasing ints\n"
   ]
  },
  {
   "cell_type": "code",
   "execution_count": 37,
   "metadata": {},
   "outputs": [],
   "source": [
    "# Multiply the 3rd row by 5 times itself and update the row\n"
   ]
  },
  {
   "cell_type": "markdown",
   "metadata": {},
   "source": [
    "### What if we want to access a set of rows or columns that are not adjacent?\n",
    "\n",
    "Can't use colon notation. Instead use `np._ix`"
   ]
  },
  {
   "cell_type": "code",
   "execution_count": null,
   "metadata": {},
   "outputs": [],
   "source": []
  },
  {
   "cell_type": "markdown",
   "metadata": {},
   "source": [
    "Example: Say we want column indices 0, 2, 4 and all rows.\n",
    "\n",
    "**Syntax for `np._ix`:**\n",
    "- `np._ix` goes inside the square brackets: `arr[np._ix(blah)]`\n",
    "- Give it `M` arguments (e.g. 2 for a 2D matrix).\n",
    "- Each argument is a Python list (or ndarray) of indices to take along that dimension."
   ]
  },
  {
   "cell_type": "code",
   "execution_count": null,
   "metadata": {},
   "outputs": [],
   "source": []
  },
  {
   "cell_type": "markdown",
   "metadata": {},
   "source": [
    "## Memory\n",
    "\n",
    "- Numpy tries to be efficient with arrays so assignment does a shallow copy. To do a deep copy, you need to use `.copy()` method"
   ]
  },
  {
   "cell_type": "code",
   "execution_count": 38,
   "metadata": {},
   "outputs": [
    {
     "data": {
      "text/plain": [
       "array([-1. , -0.5,  0. ,  0.5,  1. ])"
      ]
     },
     "execution_count": 38,
     "metadata": {},
     "output_type": "execute_result"
    }
   ],
   "source": [
    "a = np.linspace(-1, 1, 5)\n",
    "a"
   ]
  },
  {
   "cell_type": "code",
   "execution_count": null,
   "metadata": {},
   "outputs": [],
   "source": []
  },
  {
   "cell_type": "code",
   "execution_count": null,
   "metadata": {},
   "outputs": [],
   "source": []
  },
  {
   "cell_type": "code",
   "execution_count": 39,
   "metadata": {},
   "outputs": [],
   "source": [
    "# fixed with .copy()"
   ]
  },
  {
   "cell_type": "markdown",
   "metadata": {},
   "source": [
    "## Reshaping\n",
    "\n",
    "**Problem:**\n",
    "- You want to preserve the number of elements in an ndarray but \"regroup\" the elements"
   ]
  },
  {
   "cell_type": "markdown",
   "metadata": {},
   "source": [
    "Example: Have a `64 x 64` image and want to make one big `64*64` 1D vector by \"gluing the rows together\":\n",
    "\n",
    "e.g: (3, 3) -> (9,)\n",
    "\n",
    "Turn:\n",
    "\n",
    "    [[1, 2, 3],\n",
    "     [4, 5, 6],\n",
    "     [7, 8, 9]]\n",
    "\n",
    "Into:\n",
    "\n",
    "     [1, 2, 3, 4, 5, 6, 7, 8, 9]"
   ]
  },
  {
   "cell_type": "code",
   "execution_count": null,
   "metadata": {},
   "outputs": [],
   "source": []
  },
  {
   "cell_type": "code",
   "execution_count": null,
   "metadata": {},
   "outputs": [],
   "source": []
  },
  {
   "cell_type": "markdown",
   "metadata": {},
   "source": [
    "How can we do this without hard coding?"
   ]
  },
  {
   "cell_type": "code",
   "execution_count": null,
   "metadata": {},
   "outputs": [],
   "source": []
  },
  {
   "cell_type": "markdown",
   "metadata": {},
   "source": [
    "**Key:** Total number of elements in ndarray doesn't change."
   ]
  },
  {
   "cell_type": "markdown",
   "metadata": {},
   "source": [
    "## Combining multiple ndarrays\n",
    "\n",
    "**Problem:**\n",
    "- You have two ndarrays and want to concatenate them\n",
    "- You have an ndarray and **want to append a column or row vector**"
   ]
  },
  {
   "cell_type": "markdown",
   "metadata": {},
   "source": [
    "### Add/append a new column â€” \"stack horizontally\"\n",
    "\n",
    "**Mnemonic**: Columns go horizontally.\n",
    "\n",
    "Have `a`:\n",
    "\n",
    "    [[1, 2]\n",
    "     [3, 4]]\n",
    "and `b`\n",
    "\n",
    "    [[9]\n",
    "     [9]]\n",
    "    \n",
    "want to make:\n",
    "\n",
    "    [[1, 2, 9]\n",
    "     [3, 4, 9]]\n",
    "    \n",
    "i.e. stack horizontally. Could be two matrices (not just a matrix and a vector).\n",
    "\n",
    "**Caveat:** We need to make sure shapes are compatible for broadcasting:\n",
    "\n",
    "- Result shape = `(2, 3)`\n",
    "- We are starting with `a` shape: `(2, 2)`\n",
    "\n",
    "The shape of `b` needs to be `(2, 1)` (why wouldn't `(1, 2)` work?)"
   ]
  },
  {
   "cell_type": "code",
   "execution_count": null,
   "metadata": {},
   "outputs": [],
   "source": []
  },
  {
   "cell_type": "code",
   "execution_count": null,
   "metadata": {},
   "outputs": [],
   "source": []
  },
  {
   "cell_type": "markdown",
   "metadata": {},
   "source": [
    "## Math with ndarrays (vectorization)\n",
    "There are many options for doing math with ndarrays. If we can apply a function to an entire array or have an entire array as an operand in a mathematical operation (which we can), then we call this **Vectorization** and we avoid loops.\n",
    "\n",
    "First, we talk about functions. Then, we talk about mathematical expressions."
   ]
  },
  {
   "cell_type": "markdown",
   "metadata": {},
   "source": [
    "## Built-in functions that compute along dimensions (`axes`)\n",
    "\n",
    "- Axes are the numpy term for different ndarray dimensions. \n",
    "- Example: axis 0 are the rows, axis 1 are the columns, etc.\n",
    "- We can apply functions over one or more axis super efficiently in one line of code! This isÂ MUCH MUCH faster than loops (stay tuned)."
   ]
  },
  {
   "cell_type": "code",
   "execution_count": null,
   "metadata": {},
   "outputs": [],
   "source": []
  },
  {
   "cell_type": "markdown",
   "metadata": {},
   "source": [
    "Sum along rows -> \"collapse\" across rows to get sum within each column â€”Â 5 numbers"
   ]
  },
  {
   "cell_type": "code",
   "execution_count": null,
   "metadata": {},
   "outputs": [],
   "source": []
  },
  {
   "cell_type": "markdown",
   "metadata": {},
   "source": [
    "Sum along columns -> \"collapse\" across columns to get sum within each row â€”Â 3 numbers"
   ]
  },
  {
   "cell_type": "code",
   "execution_count": null,
   "metadata": {},
   "outputs": [],
   "source": []
  },
  {
   "cell_type": "markdown",
   "metadata": {},
   "source": [
    "**Careful:** Applying a function without specifying the axis may compute across the ENTIRE ndarray."
   ]
  },
  {
   "cell_type": "code",
   "execution_count": null,
   "metadata": {},
   "outputs": [],
   "source": []
  },
  {
   "cell_type": "markdown",
   "metadata": {},
   "source": [
    "**Mnemonic trick:** Applying a function along an axis eliminates that dimension from the shape. Left with remaining dimensions."
   ]
  },
  {
   "cell_type": "code",
   "execution_count": 40,
   "metadata": {},
   "outputs": [
    {
     "ename": "NameError",
     "evalue": "name 'one' is not defined",
     "output_type": "error",
     "traceback": [
      "\u001b[0;31m---------------------------------------------------------------------------\u001b[0m",
      "\u001b[0;31mNameError\u001b[0m                                 Traceback (most recent call last)",
      "Cell \u001b[0;32mIn[40], line 1\u001b[0m\n\u001b[0;32m----> 1\u001b[0m \u001b[39mprint\u001b[39m(one\u001b[39m.\u001b[39mshape)\n\u001b[1;32m      3\u001b[0m \u001b[39mprint\u001b[39m(\u001b[39mf\u001b[39m\u001b[39m'\u001b[39m\u001b[39mMean across axis 0: \u001b[39m\u001b[39m{\u001b[39;00mthe_mean\u001b[39m.\u001b[39mshape\u001b[39m}\u001b[39;00m\u001b[39m'\u001b[39m)\n\u001b[1;32m      5\u001b[0m \u001b[39mprint\u001b[39m(one\u001b[39m.\u001b[39mshape)\n",
      "\u001b[0;31mNameError\u001b[0m: name 'one' is not defined"
     ]
    }
   ],
   "source": [
    "print(one.shape)\n",
    "\n",
    "print(f'Mean across axis 0: {the_mean.shape}')\n",
    "\n",
    "print(one.shape)\n",
    "\n",
    "print(f'Mean across axis 1: {the_mean.shape}')"
   ]
  },
  {
   "cell_type": "markdown",
   "metadata": {},
   "source": [
    "## Math Operations with ndarrays\n",
    "In NumPy, you can apply the same operations as with scalars (+,-,\\*,/,\\**), but to every element of an ndarray. This is super straightforward if the operands are ndarrays with the same shape. Then the operations are simply performed element-wise."
   ]
  },
  {
   "cell_type": "code",
   "execution_count": null,
   "metadata": {},
   "outputs": [],
   "source": []
  },
  {
   "cell_type": "markdown",
   "metadata": {},
   "source": [
    "But what if the operands are not identically sized? Under certain conditions, NumPy will do the work (hopefully the work you want) anyways. NumPy does this via a powerful feature called Broadcasting."
   ]
  },
  {
   "cell_type": "markdown",
   "metadata": {},
   "source": [
    "## Broadcasting\n",
    "\n",
    "**This is the most useful numpy feature thus far! This will become your bread-and-butter!**"
   ]
  },
  {
   "cell_type": "markdown",
   "metadata": {},
   "source": [
    "### Simple example: A Scalar and an NDarray\n",
    "\n",
    "As we saw, we can create an array of any size with any constant value WITHOUT ANY LOOPS. This is the simplest example of numpy **broadcasting** the scalar across the ndarray."
   ]
  },
  {
   "cell_type": "code",
   "execution_count": null,
   "metadata": {},
   "outputs": [],
   "source": [
    "# Example with basic arithmetic\n"
   ]
  },
  {
   "cell_type": "markdown",
   "metadata": {},
   "source": [
    "### Example: Subtract the minimum value of each column for the original 2D array\n",
    "In this case, we have a 2D array and a 1D array. "
   ]
  },
  {
   "cell_type": "code",
   "execution_count": null,
   "metadata": {},
   "outputs": [],
   "source": [
    "np.random.seed(0)\n",
    "rand_inds = np.random.randint(low=0, high=5, size=(5, 6))\n",
    "rand_inds"
   ]
  },
  {
   "cell_type": "code",
   "execution_count": null,
   "metadata": {},
   "outputs": [],
   "source": [
    "# Take the min across each column and subtract it from rand_inds. Print shape of result\n",
    "\n",
    "print(result.shape)"
   ]
  },
  {
   "cell_type": "markdown",
   "metadata": {},
   "source": [
    "#### What's going on??\n",
    "\n",
    "Let's look at the shapes:"
   ]
  },
  {
   "cell_type": "code",
   "execution_count": null,
   "metadata": {},
   "outputs": [],
   "source": []
  },
  {
   "cell_type": "markdown",
   "metadata": {},
   "source": [
    "Numpy is **broadcasting** the vector to operate on the 2d ndarray (**draw this out on board**):\n",
    "\n",
    "- Numpy looks for axis shape compatibility among the different arrays.\n",
    "- Numpy sees the column dimension (5, **6**) matches the min vector (**6,**)\n",
    "- Numpy adds a **singleton dimension** (a \"fake\" leading dimension for rows). Now the min vector is treated with shape: **(1, 6)**.\n",
    "- Numpy dynamically \"grows\" the singleton dimension to the needed shape (5). So now the min vector is treated like a (5, 6) array.\n",
    "- Numpy element-wise subtracts the two arrays: (5, 6) array can be subtracted by a (5, 6) array.\n",
    "- Numpy returns the result, which is a (5, 6) array!\n",
    "\n",
    "Process is **very memory efficient**: No new memory gets allocated during broadcasting."
   ]
  },
  {
   "cell_type": "markdown",
   "metadata": {},
   "source": [
    "#### Broadcasting only adds singleton dimensions LEFTWARD to the ndarray with smaller number of dimensions.\n",
    "\n",
    "What if we did the same thing as above, but now wanted to **subtract the minimum value in each row**?"
   ]
  },
  {
   "cell_type": "code",
   "execution_count": null,
   "metadata": {},
   "outputs": [],
   "source": [
    "print(f'rand_inds shape: {rand_inds.shape}')\n",
    "print(f'min shape: {np.min(rand_inds, axis=1).shape}')"
   ]
  },
  {
   "cell_type": "code",
   "execution_count": null,
   "metadata": {},
   "outputs": [],
   "source": []
  },
  {
   "cell_type": "markdown",
   "metadata": {},
   "source": [
    "**Problem:** adding singleton dimensions to the LEFT could never make the shapes compatible!! For example, numpy tries: \n",
    "\n",
    "    rand_inds shape: (5, 6)\n",
    "    min shape: (1, 5)\n",
    "\n",
    "but that won't work! Crash..."
   ]
  },
  {
   "cell_type": "markdown",
   "metadata": {},
   "source": [
    "#### Adding singleton dimensions by ourselves\n",
    "\n",
    "We can help numpy out and add a \"new axis\" ourselves to make the shapes compatible with `np.newaxis`!"
   ]
  },
  {
   "cell_type": "code",
   "execution_count": null,
   "metadata": {},
   "outputs": [],
   "source": []
  },
  {
   "cell_type": "code",
   "execution_count": null,
   "metadata": {},
   "outputs": [],
   "source": []
  },
  {
   "cell_type": "markdown",
   "metadata": {},
   "source": [
    "Can also make this more readable by defining a temp variable..."
   ]
  },
  {
   "cell_type": "code",
   "execution_count": null,
   "metadata": {},
   "outputs": [],
   "source": []
  },
  {
   "cell_type": "markdown",
   "metadata": {},
   "source": [
    "#### Squeeze if you need to get rid of all singleton dimensions\n",
    "\n",
    "\"Undo\" a new axis / singleton dimension"
   ]
  },
  {
   "cell_type": "code",
   "execution_count": null,
   "metadata": {},
   "outputs": [],
   "source": [
    "ex = np.zeros([1, 2, 1, 3, 1, 4, 5, 1])\n",
    "ex.shape"
   ]
  },
  {
   "cell_type": "code",
   "execution_count": null,
   "metadata": {},
   "outputs": [],
   "source": []
  },
  {
   "cell_type": "markdown",
   "metadata": {},
   "source": [
    "#### Not automatically squeezing computations\n",
    "\n",
    "As we saw above, functions like `min` over an axis eliminate that axis from the result: "
   ]
  },
  {
   "cell_type": "code",
   "execution_count": null,
   "metadata": {},
   "outputs": [],
   "source": [
    "print(f'Min over axis 0 shape: {.shape}')\n",
    "print(f'Min over axis 1 shape: {.shape}')"
   ]
  },
  {
   "cell_type": "markdown",
   "metadata": {},
   "source": [
    "If we want `min` (and some other functions) to keep the singleton dimension, we can use the optional argument `keepdims=True`:"
   ]
  },
  {
   "cell_type": "code",
   "execution_count": null,
   "metadata": {},
   "outputs": [],
   "source": [
    "print(f'Min over axis 0 shape: {.shape}')\n",
    "print(f'Min over axis 1 shape: {.shape}')"
   ]
  },
  {
   "cell_type": "markdown",
   "metadata": {},
   "source": [
    "This can **help with broadcasting compatibility when performing an operation on an axis then modifying the original ndarray.** Then we don't need to manually add a new axis.\n",
    "\n",
    "Example with subtracting the mean:"
   ]
  },
  {
   "cell_type": "code",
   "execution_count": null,
   "metadata": {},
   "outputs": [],
   "source": [
    "# Subtract off mean along either axis\n",
    "rand_inds_centered = rand_inds.copy()"
   ]
  },
  {
   "cell_type": "markdown",
   "metadata": {},
   "source": [
    "## Vectorization speed vs loops\n",
    "\n",
    "Time computation of adding 1 to a ndarray with loop vs vectorized."
   ]
  },
  {
   "cell_type": "code",
   "execution_count": null,
   "metadata": {},
   "outputs": [],
   "source": [
    "def timeit(fun):\n",
    "    '''Just a function to time the runtime of another function'''\n",
    "    def timer():\n",
    "        start = time.time()\n",
    "        fun()\n",
    "        end = time.time()\n",
    "        print(f'Took {end - start:.3} secs to run.')\n",
    "    return timer\n",
    "\n",
    "\n",
    "@timeit\n",
    "def sumLoop():\n",
    "    '''Use for loop to sum a row vector'''\n",
    "    longRow = np.array([i for i in range(1, 1000000)])\n",
    "    theSum = 0\n",
    "    for i in range(len(longRow)):\n",
    "        theSum += longRow[i]\n",
    "\n",
    "\n",
    "@timeit\n",
    "def sumVectorized():\n",
    "    '''Vectorized version of summing a row vector'''\n",
    "    longRow = np.array([i for i in range(1, 1000000)])\n",
    "    theSum = np.sum(longRow)"
   ]
  },
  {
   "cell_type": "code",
   "execution_count": null,
   "metadata": {},
   "outputs": [],
   "source": [
    "# Dynamic typing in python makes for loops with lots of small\n",
    "# operations slow\n",
    "print('addOneLoop:')\n",
    "addOneLoop()\n",
    "\n",
    "# Vectorization allows Numpy to stop searching at runtime\n",
    "# and use efficient pre-compiled functions to batch-process\n",
    "# the computation over the matrix\n",
    "print('addOneVectorized:')\n",
    "addOneVectorized()"
   ]
  }
 ],
 "metadata": {
  "kernelspec": {
   "display_name": "Python 3 (ipykernel)",
   "language": "python",
   "name": "python3"
  },
  "language_info": {
   "codemirror_mode": {
    "name": "ipython",
    "version": 3
   },
   "file_extension": ".py",
   "mimetype": "text/x-python",
   "name": "python",
   "nbconvert_exporter": "python",
   "pygments_lexer": "ipython3",
   "version": "3.8.10"
  },
  "vscode": {
   "interpreter": {
    "hash": "916dbcbb3f70747c44a77c7bcd40155683ae19c65e1c03b4aa3499c5328201f1"
   }
  }
 },
 "nbformat": 4,
 "nbformat_minor": 4
}
