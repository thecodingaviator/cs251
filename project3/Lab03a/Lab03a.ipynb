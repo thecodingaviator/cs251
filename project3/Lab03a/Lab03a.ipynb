{
 "cells": [
  {
   "attachments": {},
   "cell_type": "markdown",
   "metadata": {},
   "source": [
    "**Parth Parth**\n",
    "\n",
    "Spring 2022\n",
    "\n",
    "CS 251: Data Analysis and Visualization"
   ]
  },
  {
   "cell_type": "markdown",
   "metadata": {},
   "source": [
    "# Lab 3a: Linear Regression\n",
    "\n",
    "## Task 1. Mystery Data 1\n",
    "\n",
    "### 1a) Import the data\n",
    "\n",
    "1. Import data 'data/mystery_data_1.csv' (using your data class or [genfromtxt](https://docs.scipy.org/doc/numpy/reference/generated/numpy.genfromtxt.html))\n",
    "2. Print first 10 lines rows of data.\n",
    "\n",
    "#### 1b) Using the following links and MatPlotLib documentation to view the data:\n",
    "- [MatPlotLib](https://matplotlib.org/)\n",
    "- [MatPlotLib hist](https://matplotlib.org/gallery/statistics/hist.html)\n",
    "1. Create a figure with 3 subplots\n",
    "    1. One scatterplot with column X on the x-axis and column Y on the y-axis.\n",
    "    1. Two historgrams one for the X data and the other for the Y data.\n",
    "    2. Create the histograms with 10 bins.\n",
    "    3. Include a title for each subplot."
   ]
  },
  {
   "cell_type": "code",
   "execution_count": 2,
   "metadata": {},
   "outputs": [
    {
     "name": "stdout",
     "output_type": "stream",
     "text": [
      "\n",
      "-----------------------------------\n",
      "Your results should look like this:\n",
      "-----------------------------------\n",
      "First 10 rows:\n",
      "[[ 9.185  0.536]\n",
      " [29.323 -3.209]\n",
      " [26.767  2.751]\n",
      " [17.792 -2.81 ]\n",
      " [14.624  2.409]\n",
      " [ 8.078  3.677]\n",
      " [ 3.736 -3.28 ]\n",
      " [10.999 -2.997]\n",
      " [18.113 -3.055]\n",
      " [ 3.33  -0.443]]\n",
      "-----------------------------------\n",
      "\n"
     ]
    }
   ],
   "source": [
    "import numpy as np\n",
    "import matplotlib.pyplot as plt\n",
    "plt.style.use(['seaborn-colorblind', 'seaborn-darkgrid'])\n",
    "plt.rcParams[\"figure.figsize\"] = [12,4.5]\n",
    "\n",
    "print('''\n",
    "-----------------------------------\n",
    "Your results should look like this:\n",
    "-----------------------------------\n",
    "First 10 rows:\n",
    "[[ 9.185  0.536]\n",
    " [29.323 -3.209]\n",
    " [26.767  2.751]\n",
    " [17.792 -2.81 ]\n",
    " [14.624  2.409]\n",
    " [ 8.078  3.677]\n",
    " [ 3.736 -3.28 ]\n",
    " [10.999 -2.997]\n",
    " [18.113 -3.055]\n",
    " [ 3.33  -0.443]]\n",
    "-----------------------------------\n",
    "''')"
   ]
  },
  {
   "cell_type": "markdown",
   "metadata": {},
   "source": [
    "## Task 2. Analyze Mystery Data 1\n",
    "\n",
    "### 2a) Use scipy to calculate the linear regression for Mystery Data 1 \n",
    "\n",
    "1. Print first 10 lines rows of data.\n",
    "2. Calculate the linear regression [scipy.linalg.lstsq](https://docs.scipy.org/doc/scipy/reference/generated/scipy.linalg.lstsq.html)\n",
    "    1. The x column is the left hand side array and the y column is the right hand side array.\n",
    "    2. This includes adding homogeneous coordinates (for the intercept) to the A matrix. \n",
    "    3. Useful methods: [hstack](https://docs.scipy.org/doc/numpy/reference/generated/numpy.hstack.html), [ones](https://docs.scipy.org/doc/numpy/reference/generated/numpy.ones.html) and [reshape](https://docs.scipy.org/doc/numpy/reference/generated/numpy.reshape.html)\n",
    "3. Print the least-squares solution and residues\n",
    "4. Using the residual, calculate and print the $R^2$ value\n",
    "    1. $R^2 = 1 - \\frac{residues}{smd}$\n",
    "    2. The square mean deviation: $smd = \\sum (y - \\frac{\\sum y}{n} )^2$"
   ]
  },
  {
   "cell_type": "code",
   "execution_count": 1,
   "metadata": {},
   "outputs": [
    {
     "name": "stdout",
     "output_type": "stream",
     "text": [
      "\n",
      "-----------------------------------\n",
      "Your results should look like this:\n",
      "----------------------------------- \n",
      "c: [ 0.92884793 -0.05650709]\n",
      "\n",
      "residues: 3722.8001542015754\n",
      "\n",
      "r2: 0.033824411486558126\n",
      "-----------------------------------\n",
      "\n"
     ]
    }
   ],
   "source": [
    "import scipy.linalg\n",
    "\n",
    "print('''\n",
    "-----------------------------------\n",
    "Your results should look like this:\n",
    "----------------------------------- \n",
    "c: [ 0.92884793 -0.05650709]\n",
    "\n",
    "residues: 3722.8001542015754\n",
    "\n",
    "r2: 0.033824411486558126\n",
    "-----------------------------------\n",
    "''')"
   ]
  },
  {
   "cell_type": "markdown",
   "metadata": {},
   "source": [
    "### 2b) Visualize linear regression results with matplotlib\n",
    "\n",
    "1. Plot a scatterplot of the mystery data X on the x axis and Y on the y axis\n",
    "2. Plot a line representing the linear regression\n",
    "    1. For line_x, use [linspace](https://docs.scipy.org/doc/numpy/reference/generated/numpy.linspace.html) to create 100 points from the min x value to the max x value\n",
    "    2. For line_y, multiply line_x by the slope and add the intercept\n",
    "3. Include a title (with $R^2$ value), legend, x label and y label"
   ]
  },
  {
   "cell_type": "code",
   "execution_count": null,
   "metadata": {
    "scrolled": true
   },
   "outputs": [],
   "source": []
  },
  {
   "cell_type": "markdown",
   "metadata": {},
   "source": [
    "### 2c)  Interpret the results of the linear regression of the dataset \n",
    "\n",
    "Interpret the results based on your plot and $R^2$ value. Is the linear regression model a good model for the data? Why?"
   ]
  },
  {
   "cell_type": "code",
   "execution_count": null,
   "metadata": {},
   "outputs": [],
   "source": []
  }
 ],
 "metadata": {
  "kernelspec": {
   "display_name": "Python 3",
   "language": "python",
   "name": "python3"
  },
  "language_info": {
   "codemirror_mode": {
    "name": "ipython",
    "version": 3
   },
   "file_extension": ".py",
   "mimetype": "text/x-python",
   "name": "python",
   "nbconvert_exporter": "python",
   "pygments_lexer": "ipython3",
   "version": "3.8.5"
  }
 },
 "nbformat": 4,
 "nbformat_minor": 4
}
