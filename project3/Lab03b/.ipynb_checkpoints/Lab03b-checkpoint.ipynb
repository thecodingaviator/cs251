{
 "cells": [
  {
   "cell_type": "markdown",
   "metadata": {},
   "source": [
    "**YOUR NAME**\n",
    "\n",
    "Spring 2022\n",
    "\n",
    "CS 251: Data Analysis and Visualization"
   ]
  },
  {
   "cell_type": "markdown",
   "metadata": {},
   "source": [
    "# Lab 3b: Polynomial Regression"
   ]
  },
  {
   "cell_type": "code",
   "execution_count": 2,
   "metadata": {},
   "outputs": [],
   "source": [
    "import os\n",
    "import random\n",
    "import numpy as np\n",
    "import scipy.linalg\n",
    "import matplotlib.pyplot as plt\n",
    "\n",
    "plt.style.use(['seaborn-colorblind', 'seaborn-darkgrid'])\n",
    "plt.rcParams.update({'font.size': 15})\n",
    "plt.rcParams.update({'figure.figsize': (10,6)})\n",
    "\n",
    "np.set_printoptions(suppress=True, precision=5)\n",
    "\n",
    "# Automatically reload external modules\n",
    "%load_ext autoreload\n",
    "%autoreload 2"
   ]
  },
  {
   "cell_type": "markdown",
   "metadata": {},
   "source": [
    "## Task 1: Import  datasets\n",
    "\n",
    "1. Import training ('data/lab3b-400-training.csv') and testing ('data/lab3b-100-testing.csv') datasets into separate matrices using [genfromtxt](https://docs.scipy.org/doc/numpy/reference/generated/numpy.genfromtxt.html).\n",
    "2. The column x is the independent variable.  Columns y1, y2, and y3 are dependent variables.  We will only be using y1.\n",
    "3. Print the first 5 rows of each dataset.\n",
    "4. Plot your dataset, column x and y1, with a title and axis labeled. "
   ]
  },
  {
   "cell_type": "code",
   "execution_count": 1,
   "metadata": {},
   "outputs": [
    {
     "name": "stdout",
     "output_type": "stream",
     "text": [
      "\n",
      "--------------------------------------\n",
      "Your results should look like\n",
      "--------------------------------------\n",
      "Training dataset [A] first 5 rows:\n",
      "[[ 0.86084 -0.62216  3.93574 11.60028]\n",
      " [-0.30754  0.00447  4.675    8.86444]\n",
      " [ 0.77201 -0.79127  3.94762 10.83111]\n",
      " [-0.71808 -0.75327 11.83894  5.23568]\n",
      " [-0.28735  0.01856  8.7937   8.49431]]\n",
      "Testing dataset [AT] first 5 rows:\n",
      "[[-0.91878 -0.9357  22.11518  4.98345]\n",
      " [-0.92811 -1.16687 18.58222  3.34313]\n",
      " [-0.96837 -1.36751 13.3575   3.65102]\n",
      " [-0.96436 -1.62782 13.88831  4.08888]\n",
      " [-0.97014 -1.2789  24.96344  3.74772]]\n",
      "\n"
     ]
    }
   ],
   "source": [
    "\n",
    "print('''\n",
    "--------------------------------------\n",
    "Your results should look like\n",
    "--------------------------------------\n",
    "Training dataset [A] first 5 rows:\n",
    "[[ 0.86084 -0.62216  3.93574 11.60028]\n",
    " [-0.30754  0.00447  4.675    8.86444]\n",
    " [ 0.77201 -0.79127  3.94762 10.83111]\n",
    " [-0.71808 -0.75327 11.83894  5.23568]\n",
    " [-0.28735  0.01856  8.7937   8.49431]]\n",
    "Testing dataset [AT] first 5 rows:\n",
    "[[-0.91878 -0.9357  22.11518  4.98345]\n",
    " [-0.92811 -1.16687 18.58222  3.34313]\n",
    " [-0.96837 -1.36751 13.3575   3.65102]\n",
    " [-0.96436 -1.62782 13.88831  4.08888]\n",
    " [-0.97014 -1.2789  24.96344  3.74772]]\n",
    "''')"
   ]
  },
  {
   "cell_type": "markdown",
   "metadata": {},
   "source": [
    "## Task 2. 3 dimensional polynomial regression\n",
    "\n",
    "### 2a. Make 3 polynomial matrices\n",
    "\n",
    "$$\n",
    "\\left(\\begin{array}{cccc} \n",
    "1 & x_0^1 & x_0^2 & x_0^3\\\\\n",
    "1 & x_1^1 & x_1^2 & x_1^3\\\\\n",
    "1 & x_2^1 & x_2^2 & x_2^3\\\\\n",
    "1 & x_3^1 & x_3^2 & x_3^3\\\\\n",
    "1 & x_4^1 & x_4^2 & x_4^3\\\\\n",
    "... & ... & ... & ...\\\\\n",
    "1 & x_n^1 & x_n^2 & x_n^3\\\\\n",
    "\\end{array}\\right)\n",
    "$$ \n",
    "\n",
    "1. Make a polynomial matrix for the training dataset using the independent variable\n",
    "    * Create a matrix of [ones](https://docs.scipy.org/doc/numpy/reference/generated/numpy.ones.html), `Ap`, with the same number of rows as the training dataset and 4 columns\n",
    "    * Update the second column to be the respective x column, the third column to be the respective x column squared, and the fourth column to be the respective x column cubed.\n",
    "    * Print the first 5 rows of the matrix\n",
    "2. Make a polynomial matrix for the test dataset\n",
    "    * Create a matrix of [ones](https://docs.scipy.org/doc/numpy/reference/generated/numpy.ones.html), `ATp`, with the same number of rows as the test dataset and 4 columns\n",
    "    * Like in the step above, update the second column to be the respective x column, the third column to be the respective x column squared, and the fourth column to be the respective x column cubed.\n",
    "    * Print the first 5 rows of the matrix\n",
    "3. Make a polynomial matrix to graph the prediction line\n",
    "    * For graphing create a [linspace](https://docs.scipy.org/doc/numpy/reference/generated/numpy.linspace.html), `line_x`, from the range of the test dataset's x column with 100 steps\n",
    "    * Create a matrix of [ones](https://docs.scipy.org/doc/numpy/reference/generated/numpy.ones.html), `lineM_x`, with the same number of rows as the length of `line_x` and 4 columns\n",
    "    * Like in the step above, update the second column to be the respective x column, the third column to be the respective x column squared, and the fourth column to be the respective x column cubed.\n",
    "    * Print the first 5 rows of the matrix"
   ]
  },
  {
   "cell_type": "code",
   "execution_count": 2,
   "metadata": {},
   "outputs": [
    {
     "name": "stdout",
     "output_type": "stream",
     "text": [
      "\n",
      "--------------------------------------\n",
      "Your results should look like\n",
      "--------------------------------------\n",
      "Ap first 5 rows\n",
      "[[ 1.       0.86084  0.74104  0.63792]\n",
      " [ 1.      -0.30754  0.09458 -0.02909]\n",
      " [ 1.       0.77201  0.596    0.46012]\n",
      " [ 1.      -0.71808  0.51564 -0.37027]\n",
      " [ 1.      -0.28735  0.08257 -0.02373]]\n",
      "ATp first 5 rows\n",
      "[[ 1.      -0.91878  0.84417 -0.77561]\n",
      " [ 1.      -0.92811  0.86139 -0.79946]\n",
      " [ 1.      -0.96837  0.93773 -0.90807]\n",
      " [ 1.      -0.96436  0.92999 -0.89685]\n",
      " [ 1.      -0.97014  0.94118 -0.91308]]\n",
      "lineM_x first 5 rows\n",
      "[[ 1.      -0.97014  0.94118 -0.91308]\n",
      " [ 1.      -0.94925  0.90107 -0.85534]\n",
      " [ 1.      -0.92835  0.86183 -0.80008]\n",
      " [ 1.      -0.90745  0.82347 -0.74726]\n",
      " [ 1.      -0.88656  0.78598 -0.69682]]\n",
      "\n"
     ]
    }
   ],
   "source": [
    "print('''\n",
    "--------------------------------------\n",
    "Your results should look like\n",
    "--------------------------------------\n",
    "Ap first 5 rows\n",
    "[[ 1.       0.86084  0.74104  0.63792]\n",
    " [ 1.      -0.30754  0.09458 -0.02909]\n",
    " [ 1.       0.77201  0.596    0.46012]\n",
    " [ 1.      -0.71808  0.51564 -0.37027]\n",
    " [ 1.      -0.28735  0.08257 -0.02373]]\n",
    "ATp first 5 rows\n",
    "[[ 1.      -0.91878  0.84417 -0.77561]\n",
    " [ 1.      -0.92811  0.86139 -0.79946]\n",
    " [ 1.      -0.96837  0.93773 -0.90807]\n",
    " [ 1.      -0.96436  0.92999 -0.89685]\n",
    " [ 1.      -0.97014  0.94118 -0.91308]]\n",
    "lineM_x first 5 rows\n",
    "[[ 1.      -0.97014  0.94118 -0.91308]\n",
    " [ 1.      -0.94925  0.90107 -0.85534]\n",
    " [ 1.      -0.92835  0.86183 -0.80008]\n",
    " [ 1.      -0.90745  0.82347 -0.74726]\n",
    " [ 1.      -0.88656  0.78598 -0.69682]]\n",
    "''')"
   ]
  },
  {
   "cell_type": "markdown",
   "metadata": {},
   "source": [
    "### 2b. Calculate 3 dimensional polynomial regression\n",
    "1.  Use [linalg.lstsq]() from scipy to calculate and print the weights, residuals and rank for the dependent variable `y1`. \n",
    "2.  Calculate and print the $R^2$ value.\n",
    "    "
   ]
  },
  {
   "cell_type": "code",
   "execution_count": 3,
   "metadata": {},
   "outputs": [
    {
     "name": "stdout",
     "output_type": "stream",
     "text": [
      "\n",
      "--------------------------------------\n",
      "Your results should look like\n",
      "--------------------------------------\n",
      "c: [-0.15511 -0.96979 -0.24675  1.61541]\n",
      "residuals: 136.56714157926723\n",
      "rank: 4\n",
      "r-squared: 0.11595609001119211\n",
      "\n"
     ]
    }
   ],
   "source": [
    "print('''\n",
    "--------------------------------------\n",
    "Your results should look like\n",
    "--------------------------------------\n",
    "c: [-0.15511 -0.96979 -0.24675  1.61541]\n",
    "residuals: 136.56714157926723\n",
    "rank: 4\n",
    "r-squared: 0.11595609001119211\n",
    "''')"
   ]
  },
  {
   "cell_type": "markdown",
   "metadata": {},
   "source": [
    "### 2c. Testing and prediction\n",
    "\n",
    "1. calculate the $R^2$ for the linear regressions ability predict the test dataset\n",
    "    1.  Multiply `ATp` with the weights to get the predicted values\n",
    "    2.  Calculate the $R^2$ value and print it the dependent variable `y1`.\n",
    "    > $R^2 = 1 - \\frac{\\sum_i \\left (y_i - \\hat{y}_i \\right )^2}{\\sum_i \\left (y_i - \\bar{y} \\right )^2}$ <br> <br> $y_i$ are the dependent variable values from the test dataset <br> $\\bar{y}_i$ is the mean of the dependent variable values from the test dataset <br> $\\hat{y}_i$ is the y values *predicted* by the regression\n",
    "\n",
    "2. Print the $R^2$ for the test dataset"
   ]
  },
  {
   "cell_type": "code",
   "execution_count": 4,
   "metadata": {},
   "outputs": [
    {
     "name": "stdout",
     "output_type": "stream",
     "text": [
      "\n",
      "--------------------------------------\n",
      "Your results should look like\n",
      "--------------------------------------\n",
      "r2 test: 0.4431027176546438\n",
      "\n"
     ]
    }
   ],
   "source": [
    "print('''\n",
    "--------------------------------------\n",
    "Your results should look like\n",
    "--------------------------------------\n",
    "r2 test: 0.4431027176546438\n",
    "''')"
   ]
  },
  {
   "cell_type": "markdown",
   "metadata": {},
   "source": [
    "### Task 3) Visualize the Results\n",
    "In one plot:\n",
    "1. Graph the training data as a scatter plot.\n",
    "1. Graph the test dataset as a scatter plot.\n",
    "1. Graph the prediction line\n",
    "    1. the independent variable is line_x\n",
    "    2. the dependent variable is lineM_x multiplied with the weights for the independent variable.\n",
    "1. Include a title (with the two $R^2$ values), axis labels, and a legend"
   ]
  },
  {
   "cell_type": "code",
   "execution_count": null,
   "metadata": {},
   "outputs": [],
   "source": []
  }
 ],
 "metadata": {
  "kernelspec": {
   "display_name": "Python 3",
   "language": "python",
   "name": "python3"
  },
  "language_info": {
   "codemirror_mode": {
    "name": "ipython",
    "version": 3
   },
   "file_extension": ".py",
   "mimetype": "text/x-python",
   "name": "python",
   "nbconvert_exporter": "python",
   "pygments_lexer": "ipython3",
   "version": "3.8.5"
  }
 },
 "nbformat": 4,
 "nbformat_minor": 4
}
